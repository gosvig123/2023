{
 "cells": [
  {
   "cell_type": "markdown",
   "id": "427e3944-94a9-44d0-8a28-0b30e9956765",
   "metadata": {},
   "source": [
    "# Exercises\n",
    "\n",
    "### Question 1: Complex ML models...\n",
    " - a) tend to have high bias and low variance\n",
    " - b) are always interpretable\n",
    " - **c) are prone to overfitting**\n",
    " - d) are prone to underfitting\n",
    "\n",
    "Answer: c)"
   ]
  },
  {
   "cell_type": "markdown",
   "id": "99895df3-42e6-443b-b78c-ebc426b61198",
   "metadata": {},
   "source": [
    "### Question 2: Which of the following classification models fulfills all three characteristics: i) it is the quickest to train, ii) it is able to handle complex decision boundaries, and iii) it doesn’t require additional retraining to make predictions that take into account freshly obtained data points?\n",
    "\n",
    " - a) logistic regression\n",
    " - **b) k nearest neighbors**\n",
    " - c) random forest\n",
    " - d) deep neural network\n",
    " \n",
    "Answer: b)"
   ]
  },
  {
   "cell_type": "markdown",
   "id": "81d4a932-2e4c-474d-8080-ce2cc0e88fab",
   "metadata": {},
   "source": [
    "### Question 3: A logistic regression model...\n",
    "\n",
    " - a) is trained by minimizing the least-squares error\n",
    " - **b) makes predictions in the range [0,1]**\n",
    " - c) makes predictions in the range [0,+inf] \n",
    " - d) Can perfectly separate white from gray dots as a linear function of x = [x1, x2]  when x1, x2 ∈ {0, 1} and y = x1 XOR x2, as in the following picture: \n",
    "\n",
    "<img src=\"img/q4.png\" width=\"250\">\n",
    "\n",
    "Answer: b)"
   ]
  }
 ],
 "metadata": {
  "kernelspec": {
   "display_name": "Python 3",
   "language": "python",
   "name": "python3"
  },
  "language_info": {
   "codemirror_mode": {
    "name": "ipython",
    "version": 3
   },
   "file_extension": ".py",
   "mimetype": "text/x-python",
   "name": "python",
   "nbconvert_exporter": "python",
   "pygments_lexer": "ipython3",
   "version": "3.7.6"
  }
 },
 "nbformat": 4,
 "nbformat_minor": 5
}
