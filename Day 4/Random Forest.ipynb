{
 "cells": [
  {
   "cell_type": "markdown",
   "id": "ab5b2817-3328-4b1e-ad51-31a8c032d645",
   "metadata": {},
   "source": [
    "*Credits: Applied Data Analysis (ADA) course at EPFL (https://dlab.epfl.ch/teaching/fall2020/cs401/)*"
   ]
  },
  {
   "cell_type": "markdown",
   "id": "d8c8db52-94e1-42df-b086-addbeaa879bb",
   "metadata": {},
   "source": [
    "# Random forest with Scikit-learn\n",
    "\n",
    "Let's come back to our beloved Titanic disaster dataset, and implement a Random Forest classifier to identify the survivors!.\n",
    "\n",
    "<img src=\"img/titanic.jpg\" width=\"600\">"
   ]
  },
  {
   "cell_type": "code",
   "execution_count": null,
   "id": "87bba1ef-0ba7-4736-a489-bd29d7a3bf19",
   "metadata": {},
   "outputs": [],
   "source": [
    "import numpy as np\n",
    "import pandas as pd\n",
    "from matplotlib import pyplot as plt\n",
    "from sklearn.ensemble import RandomForestClassifier\n",
    "from sklearn.model_selection import cross_val_score"
   ]
  },
  {
   "cell_type": "markdown",
   "id": "052e0570-a3ff-46ab-87c9-2bc00b5fdd18",
   "metadata": {},
   "source": [
    "Let's read the dataset _titanic.csv_ using `read_csv` function."
   ]
  },
  {
   "cell_type": "code",
   "execution_count": null,
   "id": "2315e58b-803a-449b-a0e8-f5138f431c91",
   "metadata": {},
   "outputs": [],
   "source": [
    "titanic = ...\n",
    "titanic.head(5)"
   ]
  },
  {
   "cell_type": "markdown",
   "id": "6a13eb28-9315-4edf-bc80-8688afa2a9d1",
   "metadata": {},
   "source": [
    "We need to convert the categorical value _sex_ to a numerical variable. Use the pandas method `get_dummies` to take care of this. Check https://pandas.pydata.org/docs/reference/api/pandas.get_dummies.html"
   ]
  },
  {
   "cell_type": "code",
   "execution_count": null,
   "id": "70980c36-625b-4a0d-a211-87c05b0d68c5",
   "metadata": {},
   "outputs": [],
   "source": [
    "# The features vector\n",
    "titanic_features = ['sex', 'age', 'sibsp', 'parch', 'fare']\n",
    "\n",
    "X = ...\n",
    "X.head()"
   ]
  },
  {
   "cell_type": "markdown",
   "id": "827139de-dd8c-4406-b862-3d17ad9e16b2",
   "metadata": {},
   "source": [
    "Replace the missing values with the mean of each of the attributes. Use pandas' `fillna` for this purpose: https://pandas.pydata.org/pandas-docs/stable/reference/api/pandas.DataFrame.fillna.html"
   ]
  },
  {
   "cell_type": "code",
   "execution_count": null,
   "id": "f199d882-2cf9-4034-b0d2-1fcb8b519f19",
   "metadata": {},
   "outputs": [],
   "source": [
    "X = ..."
   ]
  },
  {
   "cell_type": "markdown",
   "id": "0d983068-4471-4650-b511-664e9b78167b",
   "metadata": {},
   "source": [
    "Create the label vector `y` using the feature _survived_:"
   ]
  },
  {
   "cell_type": "code",
   "execution_count": null,
   "id": "4c3e8c18-31c7-4fd2-86c7-ab5b2345bfbe",
   "metadata": {},
   "outputs": [],
   "source": [
    "y = ..."
   ]
  },
  {
   "cell_type": "markdown",
   "id": "e064851f-843b-4c03-8af3-9108530e371b",
   "metadata": {},
   "source": [
    "Let's create random forests of different sizes and obtain metrics for each of the models. For this: \n",
    "* Use random forest classifier with max tree depth of 3 (and random_state=0). Check out the `RandomForestClassifier` function and documentation https://scikit-learn.org/stable/modules/generated/sklearn.ensemble.RandomForestClassifier.html\n",
    "* Train a classifier by variating the number of trees from 1 to 30 (N).\n",
    "* For each model, estimate the precision and recall metrics with cross validation (10-folds). Check out the `cross_val_score` function and documentation  https://scikit-learn.org/stable/modules/generated/sklearn.model_selection.cross_val_score.html\n",
    "* For each model, estimate the f-1 score by using the formula involving precision and recall."
   ]
  },
  {
   "cell_type": "code",
   "execution_count": null,
   "id": "eb0b7c88-d1e7-44bc-abe0-579cd54fcb43",
   "metadata": {},
   "outputs": [],
   "source": [
    "number_trees = ... # array from 1 to 30\n",
    "precision_scores = []\n",
    "recalls_scores = []\n",
    "f1_scores = []\n",
    "\n",
    "for nt in number_trees:\n",
    "    clf = ...\n",
    "    ... # train the classifier\n",
    "    precision = ...\n",
    "    precision_scores.append(...)\n",
    "    recall = ...\n",
    "    recalls_scores.append(...)\n",
    "    f1 = ...\n",
    "    f1_scores.append(...)"
   ]
  },
  {
   "cell_type": "markdown",
   "id": "e891e86b-dda2-4499-ba1e-2ed3360e9a6d",
   "metadata": {},
   "source": [
    "Plot the precision, recall and f-1 score curves for different values of N. Use good visualization practices."
   ]
  },
  {
   "cell_type": "code",
   "execution_count": null,
   "id": "7cc454fd-5f2d-4612-b2fe-affa638065c2",
   "metadata": {},
   "outputs": [],
   "source": [
    "fig, ax = plt.subplots(1, figsize=(10,6))\n",
    "\n",
    "ax.plot(number_trees, precision_scores, label=\"Precision\")\n",
    "ax.plot(number_trees, recalls_scores, label=\"Recall\")\n",
    "ax.plot(number_trees, f1_scores, label=\"F-1 Score\")\n",
    "\n",
    "ax.set_ylabel(\"Score value\")\n",
    "ax.set_xlabel(\"Number of trees\")\n",
    "ax.legend()"
   ]
  },
  {
   "cell_type": "markdown",
   "id": "2866e749-46b9-459d-b7f6-9449b02ff997",
   "metadata": {},
   "source": [
    "We can observe how initially the F-1 score increases when incrementing the number of trees, and then it tends to stabilize. "
   ]
  }
 ],
 "metadata": {
  "kernelspec": {
   "display_name": "Python 3 (ipykernel)",
   "language": "python",
   "name": "python3"
  },
  "language_info": {
   "codemirror_mode": {
    "name": "ipython",
    "version": 3
   },
   "file_extension": ".py",
   "mimetype": "text/x-python",
   "name": "python",
   "nbconvert_exporter": "python",
   "pygments_lexer": "ipython3",
   "version": "3.9.12"
  }
 },
 "nbformat": 4,
 "nbformat_minor": 5
}
