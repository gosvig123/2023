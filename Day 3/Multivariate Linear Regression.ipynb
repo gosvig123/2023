{
 "cells": [
  {
   "cell_type": "markdown",
   "id": "87d4db63-a444-42b2-85b6-b0c106aa6747",
   "metadata": {},
   "source": [
    "# Linear Regression with Scikit Learn\n",
    "\n",
    "*Adapted from https://github.com/justmarkham*\n",
    "\n",
    "### Libraries\n",
    "\n",
    "- [scikit-learn](http://scikit-learn.org/stable/)\n",
    "- pandas\n",
    "- matplotlib\n",
    "\n",
    "In this tutorial we will see some basic examples of Linear Regression for regression."
   ]
  },
  {
   "cell_type": "code",
   "execution_count": null,
   "id": "3109900e-431a-42b3-8764-8c056a8daf46",
   "metadata": {},
   "outputs": [],
   "source": [
    "import pandas as pd\n",
    "import numpy as np\n",
    "import matplotlib.pyplot as plt\n",
    "from sklearn.linear_model import LinearRegression, Ridge\n",
    "from sklearn.model_selection import cross_val_predict\n",
    "from sklearn.metrics import mean_squared_error\n",
    "import seaborn as sns\n",
    "%matplotlib inline"
   ]
  },
  {
   "cell_type": "markdown",
   "id": "28443379-c534-4f05-827f-37ea7a56d9c2",
   "metadata": {},
   "source": [
    "## Regression with Linear Regression\n",
    "\n",
    "|     *            | continuous     | categorical    |\n",
    "| ---------------- | -------------- | -------------- |\n",
    "| **supervised**   | **regression** | classification |\n",
    "| **unsupervised** | dim. reduction | clustering     |\n",
    "\n",
    "### Motivation\n",
    "\n",
    "Why are we learning Linear Regression?\n",
    "- widely used\n",
    "- runs fast\n",
    "- easy to use (not a lot of tuning required)\n",
    "- (in some cases) highly interpretable\n",
    "- basis for many other methods"
   ]
  },
  {
   "cell_type": "markdown",
   "id": "122f0e69-e051-4ca5-b1b3-f4a1c3198015",
   "metadata": {},
   "source": [
    "# Predicting sales from ads expense\n",
    "\n",
    "Let's import the dataset _Advertising.csv_:"
   ]
  },
  {
   "cell_type": "code",
   "execution_count": null,
   "id": "33760abb-0a7a-4f91-aa2d-65ec9e7d8f16",
   "metadata": {},
   "outputs": [],
   "source": [
    "data = ...\n",
    "data.head()"
   ]
  },
  {
   "cell_type": "markdown",
   "id": "3f044a77-172b-4883-bc9f-241595b3b250",
   "metadata": {},
   "source": [
    "What are the **features**?\n",
    "- TV: advertising dollars spent on TV for a single product in a given market (in thousands of dollars)\n",
    "- Radio: advertising dollars spent on Radio\n",
    "- Newspaper: advertising dollars spent on Newspaper\n",
    "\n",
    "What is the **response**?\n",
    "- Sales: sales of a single product in a given market (in thousands of units)"
   ]
  },
  {
   "cell_type": "markdown",
   "id": "77f1dd92-c1f0-4041-944e-79b0edb6a6fc",
   "metadata": {},
   "source": [
    "Print the number of rows and columns of the DataFrame"
   ]
  },
  {
   "cell_type": "code",
   "execution_count": null,
   "id": "eef36001-2468-44ca-be87-8a81dcc708be",
   "metadata": {},
   "outputs": [],
   "source": [
    "# add your code here"
   ]
  },
  {
   "cell_type": "markdown",
   "id": "428231ab-0b99-4e32-9cc9-f67e6de9415d",
   "metadata": {},
   "source": [
    "Visualize the relationship between the features and the response using scatterplots. This will allow us to make an initial assesment about the feasibility of our task."
   ]
  },
  {
   "cell_type": "code",
   "execution_count": null,
   "id": "96f55983-1ea7-48e6-b1ab-19075b8657fc",
   "metadata": {},
   "outputs": [],
   "source": [
    "fig, axs = plt.subplots(1, 3, sharey=True)\n",
    "data.plot(kind='scatter', x='TV', y='sales', ax=axs[0], figsize=(16, 6), grid=True)\n",
    "data.plot(kind='scatter', x='radio', y='sales', ax=axs[1], grid=True)\n",
    "data.plot(kind='scatter', x='newspaper', y='sales', ax=axs[2], grid=True)"
   ]
  },
  {
   "cell_type": "markdown",
   "id": "61106af4-499a-4976-8c7f-bf8e92920bf9",
   "metadata": {},
   "source": [
    "## Estimating (\"Learning\") Model Coefficients\n",
    "\n",
    "Generally speaking, coefficients are estimated using the **least squares criterion**, which means we find the line (mathematically) which minimizes the **sum of squared residuals** (or \"sum of squared errors\"):"
   ]
  },
  {
   "cell_type": "markdown",
   "id": "3122b7e6-f91b-4ce9-90e4-f672fa084ada",
   "metadata": {},
   "source": [
    "<img src=\"./img/estimating_coefficients.png\">"
   ]
  },
  {
   "cell_type": "markdown",
   "id": "4a0b1181-8e83-40b4-98f3-35027a1f4c5c",
   "metadata": {},
   "source": [
    "What elements are present in the diagram?\n",
    "- The black dots are the **observed values** of x and y.\n",
    "- The blue line is our **least squares line**.\n",
    "- The red lines are the **residuals**, which are the distances between the observed values and the least squares line.\n",
    "\n",
    "How do the model coefficients relate to the least squares line?\n",
    "- $\\beta_0$ is the **intercept** (the value of $y$ when $x$=0)\n",
    "- $\\beta_1$ is the **slope** (the change in $y$ divided by change in $x$)\n",
    "\n",
    "Here is a graphical depiction:"
   ]
  },
  {
   "cell_type": "markdown",
   "id": "e67416ec-5308-4f7d-be8b-34fca1ac40a3",
   "metadata": {},
   "source": [
    "<img src=\"./img/slope_intercept.png\">"
   ]
  },
  {
   "cell_type": "markdown",
   "id": "741f8f2a-790d-4ef3-ab69-7b85ee17c992",
   "metadata": {},
   "source": [
    "## Hands on!\n",
    "Let's create the feature matrix and the class vector (X and y):"
   ]
  },
  {
   "cell_type": "code",
   "execution_count": null,
   "id": "af9c9046-96b9-4803-9fd7-3338da1c084d",
   "metadata": {},
   "outputs": [],
   "source": [
    "feature_cols = ['TV', 'radio', 'newspaper']\n",
    "X = ...\n",
    "y = ...\n",
    "\n",
    "X.describe()"
   ]
  },
  {
   "cell_type": "markdown",
   "id": "2af6493e-ca3c-478b-a377-d007d9390f67",
   "metadata": {},
   "source": [
    "**Scikit-learn** provides an easy way to train the model, via the `LinearRegression` interface.\n",
    "\n",
    "Create a linear regression model and train it using X and y.\n",
    "\n",
    "Check https://scikit-learn.org/stable/modules/generated/sklearn.linear_model.LinearRegression.html for detailed information."
   ]
  },
  {
   "cell_type": "code",
   "execution_count": null,
   "id": "167b3f0a-f1ef-407f-a427-818cbb6b57d7",
   "metadata": {},
   "outputs": [],
   "source": [
    "# Create the model\n",
    "lin_reg = ...  \n",
    "\n",
    "# Train it\n",
    "..."
   ]
  },
  {
   "cell_type": "markdown",
   "id": "767804af-a5b4-4606-b4c4-b5138b4ce659",
   "metadata": {},
   "source": [
    "Back to the theory! Let's see what the formula looks like:"
   ]
  },
  {
   "cell_type": "code",
   "execution_count": null,
   "id": "693922c5-c12d-4e3f-a31f-311810b1bd52",
   "metadata": {},
   "outputs": [],
   "source": [
    "for f in range(len(feature_cols)):\n",
    "    print(\"{0} * {1} + \".format(lin_reg.coef_[f], feature_cols[f]))\n",
    "print(lin_reg.intercept_)"
   ]
  },
  {
   "cell_type": "markdown",
   "id": "0ea2dc29-e9c0-4917-9883-545a7772a035",
   "metadata": {},
   "source": [
    "\n",
    "\n",
    "$$y = \\beta_0 + \\beta_1  \\times TV + \\beta_2  \\times radio + \\beta_3  \\times newspaper$$\n",
    "$$y = 2.938 + 0.045 \\times TV + 0.18  \\times radio + -0.001  \\times newspaper$$"
   ]
  },
  {
   "cell_type": "markdown",
   "id": "c9b9bc58-3c4a-4923-8a26-fb2d54264418",
   "metadata": {},
   "source": [
    "Create a new linear regression model and compute a 5-fold cross-validated prediction of the sales. For this purpose, use the `cross_val_predict` implementation provided by `sklearn` and already imported above. `cross_val_predict` returns an array of the same size as `y` where each entry is a prediction obtained by cross validation. Check out the reference: https://scikit-learn.org/stable/modules/generated/sklearn.model_selection.cross_val_predict.html\n",
    "\n",
    "More on cross validation\n",
    "https://en.wikipedia.org/wiki/Cross-validation_(statistics)"
   ]
  },
  {
   "cell_type": "code",
   "execution_count": null,
   "id": "9551ebfe-e97a-4f06-8c35-c5a4f12e0047",
   "metadata": {},
   "outputs": [],
   "source": [
    "lr = ...\n",
    "predicted = ..."
   ]
  },
  {
   "cell_type": "markdown",
   "id": "7f21ef5f-03c7-4d55-9a84-56adfcca71c9",
   "metadata": {},
   "source": [
    "Let's plot the predictions and the original values:"
   ]
  },
  {
   "cell_type": "code",
   "execution_count": null,
   "id": "b171fbde-b596-408c-8674-1204f6092c1e",
   "metadata": {},
   "outputs": [],
   "source": [
    "# code to plot the results"
   ]
  },
  {
   "cell_type": "markdown",
   "id": "fc67a284-4cc3-466d-84cf-42e1c9c73488",
   "metadata": {},
   "source": [
    "Print the MSE. For this, use the `mean_squared_error` implementation provided by `sklearn` and already imported above."
   ]
  },
  {
   "cell_type": "code",
   "execution_count": null,
   "id": "975ca189-9641-4c46-a66e-a535ce7adc49",
   "metadata": {},
   "outputs": [],
   "source": [
    "# add your code here"
   ]
  },
  {
   "cell_type": "markdown",
   "id": "436164c1-94b5-427b-ade7-cad1618ced93",
   "metadata": {},
   "source": [
    "## Regularization"
   ]
  },
  {
   "cell_type": "markdown",
   "id": "33061e8d-06bd-4e3e-bfe7-5acef1799fd3",
   "metadata": {},
   "source": [
    "In our dataset, we have only 3 features, but 200 records, which is enough for learning a good linear model. But what if we had much fewer records, say, 5?\n",
    "\n",
    "Take the first 5 records from the dataset. In the following we will work with this subset of the data."
   ]
  },
  {
   "cell_type": "code",
   "execution_count": null,
   "id": "655733f9-782a-438c-b07f-648448b4a11c",
   "metadata": {},
   "outputs": [],
   "source": [
    "X = ...\n",
    "y = ..."
   ]
  },
  {
   "cell_type": "markdown",
   "id": "2b9e3dac-744f-4ba3-aa04-ad413344f2d0",
   "metadata": {},
   "source": [
    "Create a new linear regression model and compute a 5-fold cross-validated prediction of the sales."
   ]
  },
  {
   "cell_type": "code",
   "execution_count": null,
   "id": "b60a9e92-6a9c-4fa6-a498-3350317ee917",
   "metadata": {},
   "outputs": [],
   "source": [
    "lr = ...\n",
    "predicted = ..."
   ]
  },
  {
   "cell_type": "markdown",
   "id": "5580f074-60ce-4d9a-a686-0f1a2e97b9a8",
   "metadata": {},
   "source": [
    "Plot the results. You can reuse the code from the previous visualization!"
   ]
  },
  {
   "cell_type": "code",
   "execution_count": null,
   "id": "ac949942-0ae7-4c3b-86bc-914fcc6d9f86",
   "metadata": {},
   "outputs": [],
   "source": [
    "# code to plot the results"
   ]
  },
  {
   "cell_type": "markdown",
   "id": "f9d5772e-9af6-439a-9252-3dd2747a8578",
   "metadata": {},
   "source": [
    "Print the MSE"
   ]
  },
  {
   "cell_type": "code",
   "execution_count": null,
   "id": "87d41e08-d25a-4746-84ca-326fa8268b5d",
   "metadata": {},
   "outputs": [],
   "source": [
    "# add your code here"
   ]
  },
  {
   "cell_type": "markdown",
   "id": "26fe7760-394c-4fb3-9c2b-e0bdce267286",
   "metadata": {},
   "source": [
    "The MSE is very high, because with only 5 examples we do not have enough information to generalize well for newly fresh data."
   ]
  },
  {
   "cell_type": "markdown",
   "id": "cd90870f-f82e-4375-ac6e-c09909e93095",
   "metadata": {},
   "source": [
    "Now, create a new linear regression model and train it using these 5 records. After this, compute predictions of the same 5 records (_hint:_ use the `predict` function by `sklearn`) and compute the mean squared error."
   ]
  },
  {
   "cell_type": "code",
   "execution_count": null,
   "id": "a4a8580d-0cb9-4d45-af6e-1c476a4ece34",
   "metadata": {},
   "outputs": [],
   "source": [
    "# Create a linear regression model\n",
    "lr = ...\n",
    "\n",
    "# Train it\n",
    "...\n",
    "\n",
    "# Make predictions\n",
    "predicted = ...\n",
    "\n",
    "# Print the MSE\n",
    "..."
   ]
  },
  {
   "cell_type": "markdown",
   "id": "25ffcc11-6b66-4c94-9cd1-beca9b12f1a5",
   "metadata": {},
   "source": [
    "**Problem**: The model remembers the training records (overfitting).\n",
    "\n",
    "**Solution**: Regularization\n",
    "\n",
    "Regularization refers to methods that help to reduce overfitting. Let's try Ridge Regression, which puts a penalty on large weights $\\beta_i$ and forces them to be smaller in magnitude. This reduces the complexity of the model.\n",
    "\n",
    "Create a new Ridge linear regression model (https://scikit-learn.org/stable/modules/generated/sklearn.linear_model.Ridge.html) and compute a 5-fold cross-validated prediction of the sales."
   ]
  },
  {
   "cell_type": "code",
   "execution_count": null,
   "id": "e5f2d7ec-e525-428c-8b15-efd3f9d7aa0a",
   "metadata": {},
   "outputs": [],
   "source": [
    "ridge = ...\n",
    "predicted_r = ..."
   ]
  },
  {
   "cell_type": "markdown",
   "id": "9a74f684-fcad-4984-b330-fb916bcf9104",
   "metadata": {},
   "source": [
    "Plot the results. You can reuse the code from the previous visualization!"
   ]
  },
  {
   "cell_type": "code",
   "execution_count": null,
   "id": "38a3d688-29bb-4bd7-8950-002eb05ddd45",
   "metadata": {},
   "outputs": [],
   "source": [
    "# code to plot the results"
   ]
  },
  {
   "cell_type": "markdown",
   "id": "2a273242-6ab8-473d-b781-1f30c9e00c4b",
   "metadata": {},
   "source": [
    "Print the MSE"
   ]
  },
  {
   "cell_type": "code",
   "execution_count": null,
   "id": "5c8e179d-97f7-4a88-b2eb-958916232374",
   "metadata": {},
   "outputs": [],
   "source": [
    "# add your code here"
   ]
  },
  {
   "cell_type": "markdown",
   "id": "a7754570-c91b-4fdc-9939-615c258276b1",
   "metadata": {},
   "source": [
    "The MSE error is much lower, than before (~82.77) because we have not allowed the model to overfit the training data!"
   ]
  }
 ],
 "metadata": {
  "kernelspec": {
   "display_name": "Python 3",
   "language": "python",
   "name": "python3"
  },
  "language_info": {
   "codemirror_mode": {
    "name": "ipython",
    "version": 3
   },
   "file_extension": ".py",
   "mimetype": "text/x-python",
   "name": "python",
   "nbconvert_exporter": "python",
   "pygments_lexer": "ipython3",
   "version": "3.7.6"
  }
 },
 "nbformat": 4,
 "nbformat_minor": 5
}
