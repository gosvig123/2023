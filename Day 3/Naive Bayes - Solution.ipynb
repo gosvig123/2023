{
 "cells": [
  {
   "cell_type": "markdown",
   "id": "cd6c3994-0906-442c-9dcd-52708443eac7",
   "metadata": {},
   "source": [
    "# Naive Bayes Classifier\n",
    "\n",
    "In this tutorial, you will learn how to classify the email as spam or not using the Naive Bayes Classifier.\n",
    "\n",
    "<img src=\"img/spam-filter.png\">\n",
    "\n",
    "First, let's review a little bit the characteristics of Naive Bayes Classifiers:"
   ]
  },
  {
   "cell_type": "markdown",
   "id": "76777ab7-43bd-488a-9283-5d40a97fe2ef",
   "metadata": {},
   "source": [
    "### Pro and cons of Naive Bayes Classifiers\n",
    "Pros:\n",
    "* Computationally fast\n",
    "* Simple to implement\n",
    "* Works well with small datasets\n",
    "* Works well with high dimensions\n",
    "* Perform well even if the Naive Assumption is not perfectly met. In many cases, the approximation is enough to build a good classifier.\n",
    "\n",
    "Cons:\n",
    "* Require to remove correlated features because they are voted twice in the model and it can lead to over inflating importance.\n",
    "* If a categorical variable has a category in test data set which was not observed in training data set, then the model will assign a zero probability. It will not be able to make a prediction. This is often known as “Zero Frequency”. To solve this, we can use the smoothing technique. One of the simplest smoothing techniques is called [Laplace estimation](https://stats.stackexchange.com/questions/108797/in-naive-bayes-why-bother-with-laplace-smoothing-when-we-have-unknown-words-in). `sklearn` applies Laplace smoothing by default when you train a Naive Bayes classifier."
   ]
  },
  {
   "cell_type": "markdown",
   "id": "6efb0a26-0dd2-41ea-af37-dadb75072efb",
   "metadata": {},
   "source": [
    "### Popular use cases for Naive Bayes models\n",
    "\n",
    "* Spam Detection\n",
    "* Classification of the customer\n",
    "* Loan Classification\n",
    "* Health Risk Prediction"
   ]
  },
  {
   "cell_type": "code",
   "execution_count": 1,
   "id": "fcce48fb-25a7-477d-bda8-81c732bd5505",
   "metadata": {},
   "outputs": [],
   "source": [
    "import numpy as np\n",
    "import pandas as pd\n",
    "import urllib\n",
    "import sklearn\n",
    "from sklearn.linear_model import LogisticRegression\n",
    "from sklearn.naive_bayes import GaussianNB\n",
    "from sklearn.model_selection import train_test_split\n",
    "from sklearn.metrics import accuracy_score"
   ]
  },
  {
   "cell_type": "markdown",
   "id": "2ae5f838-123d-47e9-a4c5-78b54bdc109c",
   "metadata": {},
   "source": [
    "We will load the dataset containing the spam information:"
   ]
  },
  {
   "cell_type": "code",
   "execution_count": 2,
   "id": "017f02c4-b838-4d0f-b77d-80891a30f466",
   "metadata": {},
   "outputs": [
    {
     "data": {
      "text/plain": [
       "array([  0.   ,   0.64 ,   0.64 ,   0.   ,   0.32 ,   0.   ,   0.   ,\n",
       "         0.   ,   0.   ,   0.   ,   0.   ,   0.64 ,   0.   ,   0.   ,\n",
       "         0.   ,   0.32 ,   0.   ,   1.29 ,   1.93 ,   0.   ,   0.96 ,\n",
       "         0.   ,   0.   ,   0.   ,   0.   ,   0.   ,   0.   ,   0.   ,\n",
       "         0.   ,   0.   ,   0.   ,   0.   ,   0.   ,   0.   ,   0.   ,\n",
       "         0.   ,   0.   ,   0.   ,   0.   ,   0.   ,   0.   ,   0.   ,\n",
       "         0.   ,   0.   ,   0.   ,   0.   ,   0.   ,   0.   ,   0.   ,\n",
       "         0.   ,   0.   ,   0.778,   0.   ,   0.   ,   3.756,  61.   ,\n",
       "       278.   ,   1.   ])"
      ]
     },
     "execution_count": 2,
     "metadata": {},
     "output_type": "execute_result"
    }
   ],
   "source": [
    "dataset = np.loadtxt(\"data/spambase.data\",delimiter=\",\")\n",
    "dataset[0]"
   ]
  },
  {
   "cell_type": "markdown",
   "id": "44e2303a-7336-4a0f-b85b-e6e5c662dfd2",
   "metadata": {},
   "source": [
    "Print the number of rows and attributes contained in the dataset:"
   ]
  },
  {
   "cell_type": "code",
   "execution_count": 3,
   "id": "59edb33a-3229-4c07-ac83-a6d0257f5ae4",
   "metadata": {},
   "outputs": [
    {
     "data": {
      "text/plain": [
       "(4601, 58)"
      ]
     },
     "execution_count": 3,
     "metadata": {},
     "output_type": "execute_result"
    }
   ],
   "source": [
    "dataset.shape"
   ]
  },
  {
   "cell_type": "markdown",
   "id": "9d2f6c8d-353f-44f2-b9de-67e315b1e8f9",
   "metadata": {},
   "source": [
    "If you check the file `data/spambase_doc.txt` you can read the relevant information of the dataset.\n",
    "\n",
    "For our purposes, we will use the following attributes:\n",
    "* The first 48 attributes as training features. These are continuous values ranged from 0 to 100, representing the percentage of words in the e-mail that match 48 different keywords, usually associated with spam/not spam e-mails.\n",
    "* The last attribute as target. It is a binary class attribute representing if the e-mail was considered spam (1) or not (0).\n",
    "\n",
    "Extract the features and target matrices by using `numpy` slicing operators."
   ]
  },
  {
   "cell_type": "code",
   "execution_count": 4,
   "id": "8398bfa5-29ce-4beb-a964-1d216dd4ea59",
   "metadata": {},
   "outputs": [],
   "source": [
    "x = dataset[:,:48]\n",
    "y = dataset[:,-1]"
   ]
  },
  {
   "cell_type": "markdown",
   "id": "5cf9ecc8-7a84-4cba-a8e8-45a7dab0f657",
   "metadata": {},
   "source": [
    "Split the dataset into train and test with the test size of 0.33, and _ramdom_state=17_. For this, use `sklearn`'s method `train_test_split`, whose documentation can be found in https://scikit-learn.org/stable/modules/generated/sklearn.model_selection.train_test_split.html"
   ]
  },
  {
   "cell_type": "code",
   "execution_count": 5,
   "id": "2d3e1895-90c1-4286-b639-7dc7cd2f9b7d",
   "metadata": {},
   "outputs": [],
   "source": [
    "x_train, x_test, y_train, y_test = train_test_split (x, y, test_size = 0.33, random_state = 17)"
   ]
  },
  {
   "cell_type": "markdown",
   "id": "2c476ecd-7f4e-47ca-9285-d9005bdc0335",
   "metadata": {},
   "source": [
    "Model a [Gaussian Naive Bayes Classifier](https://scikit-learn.org/stable/modules/generated/sklearn.naive_bayes.GaussianNB.html) on the dataset. For this, you can use the `GaussianNB` implementation by `sklearn`.\n",
    "\n",
    "After this, train the model using the training data."
   ]
  },
  {
   "cell_type": "code",
   "execution_count": 6,
   "id": "7f171e8d-0ae2-418c-a422-5a77cc0b0f4a",
   "metadata": {},
   "outputs": [
    {
     "name": "stdout",
     "output_type": "stream",
     "text": [
      "GaussianNB()\n"
     ]
    }
   ],
   "source": [
    "GaussNB = GaussianNB()\n",
    "GaussNB.fit(x_train, y_train)\n",
    "print(GaussNB)"
   ]
  },
  {
   "cell_type": "markdown",
   "id": "e212ced6-11fb-4222-83ce-2cb1f67a0864",
   "metadata": {},
   "source": [
    "Using the train model, make predictions for the test features. Recall that you can use the function `.predict()` for this purpose."
   ]
  },
  {
   "cell_type": "code",
   "execution_count": 7,
   "id": "57079367-41cf-4228-80ff-55f0bcafbd95",
   "metadata": {},
   "outputs": [
    {
     "data": {
      "text/plain": [
       "array([1., 1., 1., ..., 0., 0., 1.])"
      ]
     },
     "execution_count": 7,
     "metadata": {},
     "output_type": "execute_result"
    }
   ],
   "source": [
    "y_predict = GaussNB.predict(x_test)\n",
    "y_predict"
   ]
  },
  {
   "cell_type": "markdown",
   "id": "273e616a-f5ac-4e70-a905-3adba3510bd6",
   "metadata": {},
   "source": [
    "Use the `accuracy_score` function to compare the predictions against the real target values (`y_test`). Print the accuracy obtained."
   ]
  },
  {
   "cell_type": "code",
   "execution_count": 8,
   "id": "92a4cd4f-ed36-4b91-a6d0-23d2204991ee",
   "metadata": {},
   "outputs": [
    {
     "data": {
      "text/plain": [
       "0.8130348913759052"
      ]
     },
     "execution_count": 8,
     "metadata": {},
     "output_type": "execute_result"
    }
   ],
   "source": [
    "acc = accuracy_score(y_test, y_predict)\n",
    "acc"
   ]
  },
  {
   "cell_type": "markdown",
   "id": "ac701651-2f7e-4829-aa70-9f0faf85cfd2",
   "metadata": {},
   "source": [
    "### Compare with Logistic regression\n",
    "\n",
    "Let's make a quick comparison with a Logistic regression model trained on the same data:"
   ]
  },
  {
   "cell_type": "code",
   "execution_count": 9,
   "id": "f4c89e63-8e66-4ca5-8a26-03958b4db212",
   "metadata": {},
   "outputs": [
    {
     "name": "stdout",
     "output_type": "stream",
     "text": [
      "LogisticRegression()\n",
      "0.9196840026333114\n"
     ]
    }
   ],
   "source": [
    "log_reg = LogisticRegression()\n",
    "log_reg.fit(x_train, y_train)\n",
    "print(log_reg)\n",
    "y_predict = log_reg.predict(x_test)\n",
    "acc = accuracy_score(y_test, y_predict)\n",
    "print (acc)"
   ]
  },
  {
   "cell_type": "markdown",
   "id": "4dfa0963-3aa2-4fdc-ab82-5e991025e1c0",
   "metadata": {},
   "source": [
    "----\n",
    "\n",
    "Well done! We have implemented a spam detector algorithm that detects spam in emails with ~0.81 accuracy. A couple of remarks:\n",
    "1. Since we have chosen the best model based on the test results, in reality this dataset has acted as **validation** one. In order to perform a strict evaluation of the quality of the model, we should test the chosen algorithm against a fresh batch of data.\n",
    "2. We have chosen the accuracy score as performance metric. However, depending on the problem statement, other metrics would be more appropriate. Some of them are the Precision, Recall, F-1 Score, or Area Under the ROC curve."
   ]
  }
 ],
 "metadata": {
  "kernelspec": {
   "display_name": "Python 3 (ipykernel)",
   "language": "python",
   "name": "python3"
  },
  "language_info": {
   "codemirror_mode": {
    "name": "ipython",
    "version": 3
   },
   "file_extension": ".py",
   "mimetype": "text/x-python",
   "name": "python",
   "nbconvert_exporter": "python",
   "pygments_lexer": "ipython3",
   "version": "3.9.12"
  }
 },
 "nbformat": 4,
 "nbformat_minor": 5
}
