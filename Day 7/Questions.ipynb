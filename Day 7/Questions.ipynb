{
 "cells": [
  {
   "cell_type": "markdown",
   "id": "ef7e9947-c830-4320-b50a-1304bb9c1be7",
   "metadata": {},
   "source": [
    "\n",
    "### Question 1: Which of the following real-world ML applications is not unsupervised learning?\n",
    "1. Netflix matrix factorization pipeline to discover users with similar interests\n",
    "2. **Speaker recognition (recognition of the identity of who is talking) in phones and smart assistant devices**\n",
    "3. LDA topic modeling on Twitter content to discover customers' opinions about a product\n",
    "4. K-means clustering of Web domains \n",
    "\n",
    "2)"
   ]
  },
  {
   "cell_type": "markdown",
   "id": "5dbdf0b1-7455-4e41-9d8f-2ac9d6eb2fd4",
   "metadata": {},
   "source": [
    "### Question 2: Which of the following is true for the k-means clustering algorithm?\n",
    "\n",
    "1. It always converges to a global optimum.\n",
    "2. **In each iteration, points are assigned to the closest centroid and the new centroids are recomputed.**\n",
    "3. It outputs the optimal number of clusters.\n",
    "4. None of the above.\n",
    "\n",
    "2)"
   ]
  }
 ],
 "metadata": {
  "kernelspec": {
   "display_name": "Python 3",
   "language": "python",
   "name": "python3"
  },
  "language_info": {
   "codemirror_mode": {
    "name": "ipython",
    "version": 3
   },
   "file_extension": ".py",
   "mimetype": "text/x-python",
   "name": "python",
   "nbconvert_exporter": "python",
   "pygments_lexer": "ipython3",
   "version": "3.7.6"
  }
 },
 "nbformat": 4,
 "nbformat_minor": 5
}
