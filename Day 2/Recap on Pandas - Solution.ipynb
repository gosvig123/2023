{
 "cells": [
  {
   "cell_type": "markdown",
   "id": "412b89d1-cb72-4f3a-b598-2d9383a44853",
   "metadata": {},
   "source": [
    "## Recap on Pandas\n",
    "\n",
    "Let's make a quick review on some important concepts of Pandas!"
   ]
  },
  {
   "cell_type": "code",
   "execution_count": 1,
   "id": "748c5fed-6543-4847-8e7c-0230f86c801a",
   "metadata": {},
   "outputs": [],
   "source": [
    "import pandas as pd"
   ]
  },
  {
   "cell_type": "markdown",
   "id": "bba3116c-8f6b-4747-a65e-a890cf4acc3d",
   "metadata": {},
   "source": [
    "A company has information regarding their clients and would like to run some business analytics. Let's have a look at it!"
   ]
  },
  {
   "cell_type": "code",
   "execution_count": 2,
   "id": "69d34f80-0fe9-4ccd-a587-373bd9e21f62",
   "metadata": {},
   "outputs": [
    {
     "data": {
      "text/html": [
       "<div>\n",
       "<style scoped>\n",
       "    .dataframe tbody tr th:only-of-type {\n",
       "        vertical-align: middle;\n",
       "    }\n",
       "\n",
       "    .dataframe tbody tr th {\n",
       "        vertical-align: top;\n",
       "    }\n",
       "\n",
       "    .dataframe thead th {\n",
       "        text-align: right;\n",
       "    }\n",
       "</style>\n",
       "<table border=\"1\" class=\"dataframe\">\n",
       "  <thead>\n",
       "    <tr style=\"text-align: right;\">\n",
       "      <th></th>\n",
       "      <th>Name</th>\n",
       "      <th>Age</th>\n",
       "      <th>Gender</th>\n",
       "    </tr>\n",
       "  </thead>\n",
       "  <tbody>\n",
       "    <tr>\n",
       "      <th>0</th>\n",
       "      <td>Albert Einstein</td>\n",
       "      <td>NaN</td>\n",
       "      <td>Male</td>\n",
       "    </tr>\n",
       "    <tr>\n",
       "      <th>1</th>\n",
       "      <td>Katniss Everdeen</td>\n",
       "      <td>17.0</td>\n",
       "      <td>Female</td>\n",
       "    </tr>\n",
       "    <tr>\n",
       "      <th>2</th>\n",
       "      <td>Jeff Dean</td>\n",
       "      <td>52.0</td>\n",
       "      <td>Male</td>\n",
       "    </tr>\n",
       "    <tr>\n",
       "      <th>3</th>\n",
       "      <td>Steve Jobs</td>\n",
       "      <td>NaN</td>\n",
       "      <td>Male</td>\n",
       "    </tr>\n",
       "    <tr>\n",
       "      <th>4</th>\n",
       "      <td>Nelson Mandela</td>\n",
       "      <td>NaN</td>\n",
       "      <td>Male</td>\n",
       "    </tr>\n",
       "    <tr>\n",
       "      <th>5</th>\n",
       "      <td>Karim Benzema</td>\n",
       "      <td>33.0</td>\n",
       "      <td>Male</td>\n",
       "    </tr>\n",
       "    <tr>\n",
       "      <th>6</th>\n",
       "      <td>Angela Merkel</td>\n",
       "      <td>66.0</td>\n",
       "      <td>Female</td>\n",
       "    </tr>\n",
       "    <tr>\n",
       "      <th>7</th>\n",
       "      <td>Bad Bunny</td>\n",
       "      <td>27.0</td>\n",
       "      <td>None</td>\n",
       "    </tr>\n",
       "  </tbody>\n",
       "</table>\n",
       "</div>"
      ],
      "text/plain": [
       "               Name   Age  Gender\n",
       "0   Albert Einstein   NaN    Male\n",
       "1  Katniss Everdeen  17.0  Female\n",
       "2         Jeff Dean  52.0    Male\n",
       "3        Steve Jobs   NaN    Male\n",
       "4    Nelson Mandela   NaN    Male\n",
       "5     Karim Benzema  33.0    Male\n",
       "6     Angela Merkel  66.0  Female\n",
       "7         Bad Bunny  27.0    None"
      ]
     },
     "execution_count": 2,
     "metadata": {},
     "output_type": "execute_result"
    }
   ],
   "source": [
    "company = pd.DataFrame({\n",
    "    'Name':['Albert Einstein', 'Katniss Everdeen', 'Jeff Dean', 'Steve Jobs', \n",
    "            'Nelson Mandela', 'Karim Benzema', 'Angela Merkel', 'Bad Bunny'],\n",
    "    'Age':[None, 17, 52, None, None, 33, 66, 27],\n",
    "    'Gender':['Male', 'Female', 'Male', 'Male', 'Male', 'Male', \"Female\", None]})\n",
    "company"
   ]
  },
  {
   "cell_type": "markdown",
   "id": "d68ef255-ed08-47bd-b17e-005fb6f1567e",
   "metadata": {},
   "source": [
    "### Basic data analysis on the Company"
   ]
  },
  {
   "cell_type": "markdown",
   "id": "031b8bab-048d-41f0-875e-0cd53fbfe987",
   "metadata": {},
   "source": [
    "Let's use `pandas`' function `.describe()` to get some basic stats of the dataset."
   ]
  },
  {
   "cell_type": "code",
   "execution_count": 3,
   "id": "3a859e5f-c694-4822-b261-ca2ce91cf8bb",
   "metadata": {},
   "outputs": [
    {
     "data": {
      "text/html": [
       "<div>\n",
       "<style scoped>\n",
       "    .dataframe tbody tr th:only-of-type {\n",
       "        vertical-align: middle;\n",
       "    }\n",
       "\n",
       "    .dataframe tbody tr th {\n",
       "        vertical-align: top;\n",
       "    }\n",
       "\n",
       "    .dataframe thead th {\n",
       "        text-align: right;\n",
       "    }\n",
       "</style>\n",
       "<table border=\"1\" class=\"dataframe\">\n",
       "  <thead>\n",
       "    <tr style=\"text-align: right;\">\n",
       "      <th></th>\n",
       "      <th>Age</th>\n",
       "    </tr>\n",
       "  </thead>\n",
       "  <tbody>\n",
       "    <tr>\n",
       "      <th>count</th>\n",
       "      <td>5.000000</td>\n",
       "    </tr>\n",
       "    <tr>\n",
       "      <th>mean</th>\n",
       "      <td>39.000000</td>\n",
       "    </tr>\n",
       "    <tr>\n",
       "      <th>std</th>\n",
       "      <td>19.761073</td>\n",
       "    </tr>\n",
       "    <tr>\n",
       "      <th>min</th>\n",
       "      <td>17.000000</td>\n",
       "    </tr>\n",
       "    <tr>\n",
       "      <th>25%</th>\n",
       "      <td>27.000000</td>\n",
       "    </tr>\n",
       "    <tr>\n",
       "      <th>50%</th>\n",
       "      <td>33.000000</td>\n",
       "    </tr>\n",
       "    <tr>\n",
       "      <th>75%</th>\n",
       "      <td>52.000000</td>\n",
       "    </tr>\n",
       "    <tr>\n",
       "      <th>max</th>\n",
       "      <td>66.000000</td>\n",
       "    </tr>\n",
       "  </tbody>\n",
       "</table>\n",
       "</div>"
      ],
      "text/plain": [
       "             Age\n",
       "count   5.000000\n",
       "mean   39.000000\n",
       "std    19.761073\n",
       "min    17.000000\n",
       "25%    27.000000\n",
       "50%    33.000000\n",
       "75%    52.000000\n",
       "max    66.000000"
      ]
     },
     "execution_count": 3,
     "metadata": {},
     "output_type": "execute_result"
    }
   ],
   "source": [
    "company.describe()"
   ]
  },
  {
   "cell_type": "markdown",
   "id": "69e21a1d-9038-4e17-b9f0-0520639cee1f",
   "metadata": {},
   "source": [
    "These only appear for _Age_ since it is the only numeric attribute. At the same time, rows with the `NaN` value are not considered in the statistic. We will deal with these later.\n",
    "\n",
    "Now, let's get the most common _Gender_ on the dataset. You can use the `.mode()` method for this."
   ]
  },
  {
   "cell_type": "code",
   "execution_count": 4,
   "id": "f5aef2dd-e32a-4f1d-8dec-0ec81db93841",
   "metadata": {},
   "outputs": [
    {
     "data": {
      "text/plain": [
       "'Male'"
      ]
     },
     "execution_count": 4,
     "metadata": {},
     "output_type": "execute_result"
    }
   ],
   "source": [
    "company[\"Gender\"].mode().item()"
   ]
  },
  {
   "cell_type": "markdown",
   "id": "80231acd-0025-430e-a12c-b1a22aef3394",
   "metadata": {},
   "source": [
    "### Missing values on the company"
   ]
  },
  {
   "cell_type": "markdown",
   "id": "c4a60c99-06db-42f6-975a-75498c831c2d",
   "metadata": {},
   "source": [
    "Some information from the company is missing. Let's identify the rows with any missing. For this, we use `isnull()`."
   ]
  },
  {
   "cell_type": "code",
   "execution_count": 5,
   "id": "43987aeb-b494-4d1c-bfce-821e6149fdb2",
   "metadata": {},
   "outputs": [
    {
     "data": {
      "text/html": [
       "<div>\n",
       "<style scoped>\n",
       "    .dataframe tbody tr th:only-of-type {\n",
       "        vertical-align: middle;\n",
       "    }\n",
       "\n",
       "    .dataframe tbody tr th {\n",
       "        vertical-align: top;\n",
       "    }\n",
       "\n",
       "    .dataframe thead th {\n",
       "        text-align: right;\n",
       "    }\n",
       "</style>\n",
       "<table border=\"1\" class=\"dataframe\">\n",
       "  <thead>\n",
       "    <tr style=\"text-align: right;\">\n",
       "      <th></th>\n",
       "      <th>Name</th>\n",
       "      <th>Age</th>\n",
       "      <th>Gender</th>\n",
       "    </tr>\n",
       "  </thead>\n",
       "  <tbody>\n",
       "    <tr>\n",
       "      <th>0</th>\n",
       "      <td>Albert Einstein</td>\n",
       "      <td>NaN</td>\n",
       "      <td>Male</td>\n",
       "    </tr>\n",
       "    <tr>\n",
       "      <th>3</th>\n",
       "      <td>Steve Jobs</td>\n",
       "      <td>NaN</td>\n",
       "      <td>Male</td>\n",
       "    </tr>\n",
       "    <tr>\n",
       "      <th>4</th>\n",
       "      <td>Nelson Mandela</td>\n",
       "      <td>NaN</td>\n",
       "      <td>Male</td>\n",
       "    </tr>\n",
       "    <tr>\n",
       "      <th>7</th>\n",
       "      <td>Bad Bunny</td>\n",
       "      <td>27.0</td>\n",
       "      <td>None</td>\n",
       "    </tr>\n",
       "  </tbody>\n",
       "</table>\n",
       "</div>"
      ],
      "text/plain": [
       "              Name   Age Gender\n",
       "0  Albert Einstein   NaN   Male\n",
       "3       Steve Jobs   NaN   Male\n",
       "4   Nelson Mandela   NaN   Male\n",
       "7        Bad Bunny  27.0   None"
      ]
     },
     "execution_count": 5,
     "metadata": {},
     "output_type": "execute_result"
    }
   ],
   "source": [
    "company[company.isnull().values]"
   ]
  },
  {
   "cell_type": "markdown",
   "id": "3f1fa67e-7659-4829-bd5d-ff87962c0d6a",
   "metadata": {},
   "source": [
    "Now that we have identified the values, we can decide a policy to overcome the missingness. Let's fill the _Age_ with 0s, and drop the rows with unknown _Gender_."
   ]
  },
  {
   "cell_type": "code",
   "execution_count": 6,
   "id": "808ee869-c4b9-4c35-9d54-b24e9540c3a0",
   "metadata": {},
   "outputs": [
    {
     "data": {
      "text/html": [
       "<div>\n",
       "<style scoped>\n",
       "    .dataframe tbody tr th:only-of-type {\n",
       "        vertical-align: middle;\n",
       "    }\n",
       "\n",
       "    .dataframe tbody tr th {\n",
       "        vertical-align: top;\n",
       "    }\n",
       "\n",
       "    .dataframe thead th {\n",
       "        text-align: right;\n",
       "    }\n",
       "</style>\n",
       "<table border=\"1\" class=\"dataframe\">\n",
       "  <thead>\n",
       "    <tr style=\"text-align: right;\">\n",
       "      <th></th>\n",
       "      <th>Name</th>\n",
       "      <th>Age</th>\n",
       "      <th>Gender</th>\n",
       "    </tr>\n",
       "  </thead>\n",
       "  <tbody>\n",
       "    <tr>\n",
       "      <th>0</th>\n",
       "      <td>Albert Einstein</td>\n",
       "      <td>0.0</td>\n",
       "      <td>Male</td>\n",
       "    </tr>\n",
       "    <tr>\n",
       "      <th>1</th>\n",
       "      <td>Katniss Everdeen</td>\n",
       "      <td>17.0</td>\n",
       "      <td>Female</td>\n",
       "    </tr>\n",
       "    <tr>\n",
       "      <th>2</th>\n",
       "      <td>Jeff Dean</td>\n",
       "      <td>52.0</td>\n",
       "      <td>Male</td>\n",
       "    </tr>\n",
       "    <tr>\n",
       "      <th>3</th>\n",
       "      <td>Steve Jobs</td>\n",
       "      <td>0.0</td>\n",
       "      <td>Male</td>\n",
       "    </tr>\n",
       "    <tr>\n",
       "      <th>4</th>\n",
       "      <td>Nelson Mandela</td>\n",
       "      <td>0.0</td>\n",
       "      <td>Male</td>\n",
       "    </tr>\n",
       "    <tr>\n",
       "      <th>5</th>\n",
       "      <td>Karim Benzema</td>\n",
       "      <td>33.0</td>\n",
       "      <td>Male</td>\n",
       "    </tr>\n",
       "    <tr>\n",
       "      <th>6</th>\n",
       "      <td>Angela Merkel</td>\n",
       "      <td>66.0</td>\n",
       "      <td>Female</td>\n",
       "    </tr>\n",
       "  </tbody>\n",
       "</table>\n",
       "</div>"
      ],
      "text/plain": [
       "               Name   Age  Gender\n",
       "0   Albert Einstein   0.0    Male\n",
       "1  Katniss Everdeen  17.0  Female\n",
       "2         Jeff Dean  52.0    Male\n",
       "3        Steve Jobs   0.0    Male\n",
       "4    Nelson Mandela   0.0    Male\n",
       "5     Karim Benzema  33.0    Male\n",
       "6     Angela Merkel  66.0  Female"
      ]
     },
     "execution_count": 6,
     "metadata": {},
     "output_type": "execute_result"
    }
   ],
   "source": [
    "company.fillna({'Age': 0}, inplace=True)\n",
    "company.dropna(inplace=True)\n",
    "company"
   ]
  },
  {
   "cell_type": "markdown",
   "id": "e470d2f9-7b9e-47c0-84da-9e4c4e50f69c",
   "metadata": {},
   "source": [
    "### Convert categorical variable into dummy/indicator variables."
   ]
  },
  {
   "cell_type": "markdown",
   "id": "d1e4670e-fa74-44c8-89ea-e636fcab7e96",
   "metadata": {},
   "source": [
    "Machine Learning algorithms don't know how to deal with categorial variables. These are usually transformed into binary variables that indicate the presence or absence of each categorical value. We will transform the _Gender_ attribute from categorial to dummy by applying the `.get_dummies()` function."
   ]
  },
  {
   "cell_type": "code",
   "execution_count": 7,
   "id": "00e03476-62e0-4d3b-918c-96596019d093",
   "metadata": {},
   "outputs": [
    {
     "data": {
      "text/html": [
       "<div>\n",
       "<style scoped>\n",
       "    .dataframe tbody tr th:only-of-type {\n",
       "        vertical-align: middle;\n",
       "    }\n",
       "\n",
       "    .dataframe tbody tr th {\n",
       "        vertical-align: top;\n",
       "    }\n",
       "\n",
       "    .dataframe thead th {\n",
       "        text-align: right;\n",
       "    }\n",
       "</style>\n",
       "<table border=\"1\" class=\"dataframe\">\n",
       "  <thead>\n",
       "    <tr style=\"text-align: right;\">\n",
       "      <th></th>\n",
       "      <th>Name</th>\n",
       "      <th>Age</th>\n",
       "      <th>Gender_Female</th>\n",
       "      <th>Gender_Male</th>\n",
       "    </tr>\n",
       "  </thead>\n",
       "  <tbody>\n",
       "    <tr>\n",
       "      <th>0</th>\n",
       "      <td>Albert Einstein</td>\n",
       "      <td>0.0</td>\n",
       "      <td>0</td>\n",
       "      <td>1</td>\n",
       "    </tr>\n",
       "    <tr>\n",
       "      <th>1</th>\n",
       "      <td>Katniss Everdeen</td>\n",
       "      <td>17.0</td>\n",
       "      <td>1</td>\n",
       "      <td>0</td>\n",
       "    </tr>\n",
       "    <tr>\n",
       "      <th>2</th>\n",
       "      <td>Jeff Dean</td>\n",
       "      <td>52.0</td>\n",
       "      <td>0</td>\n",
       "      <td>1</td>\n",
       "    </tr>\n",
       "    <tr>\n",
       "      <th>3</th>\n",
       "      <td>Steve Jobs</td>\n",
       "      <td>0.0</td>\n",
       "      <td>0</td>\n",
       "      <td>1</td>\n",
       "    </tr>\n",
       "    <tr>\n",
       "      <th>4</th>\n",
       "      <td>Nelson Mandela</td>\n",
       "      <td>0.0</td>\n",
       "      <td>0</td>\n",
       "      <td>1</td>\n",
       "    </tr>\n",
       "    <tr>\n",
       "      <th>5</th>\n",
       "      <td>Karim Benzema</td>\n",
       "      <td>33.0</td>\n",
       "      <td>0</td>\n",
       "      <td>1</td>\n",
       "    </tr>\n",
       "    <tr>\n",
       "      <th>6</th>\n",
       "      <td>Angela Merkel</td>\n",
       "      <td>66.0</td>\n",
       "      <td>1</td>\n",
       "      <td>0</td>\n",
       "    </tr>\n",
       "  </tbody>\n",
       "</table>\n",
       "</div>"
      ],
      "text/plain": [
       "               Name   Age  Gender_Female  Gender_Male\n",
       "0   Albert Einstein   0.0              0            1\n",
       "1  Katniss Everdeen  17.0              1            0\n",
       "2         Jeff Dean  52.0              0            1\n",
       "3        Steve Jobs   0.0              0            1\n",
       "4    Nelson Mandela   0.0              0            1\n",
       "5     Karim Benzema  33.0              0            1\n",
       "6     Angela Merkel  66.0              1            0"
      ]
     },
     "execution_count": 7,
     "metadata": {},
     "output_type": "execute_result"
    }
   ],
   "source": [
    "pd.get_dummies(company, columns=[\"Gender\"])"
   ]
  }
 ],
 "metadata": {
  "kernelspec": {
   "display_name": "Python 3 (ipykernel)",
   "language": "python",
   "name": "python3"
  },
  "language_info": {
   "codemirror_mode": {
    "name": "ipython",
    "version": 3
   },
   "file_extension": ".py",
   "mimetype": "text/x-python",
   "name": "python",
   "nbconvert_exporter": "python",
   "pygments_lexer": "ipython3",
   "version": "3.9.12"
  }
 },
 "nbformat": 4,
 "nbformat_minor": 5
}
