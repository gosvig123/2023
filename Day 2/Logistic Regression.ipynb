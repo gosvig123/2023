{
 "cells": [
  {
   "cell_type": "markdown",
   "id": "85d7a139-90d5-4a97-bed0-0f7a529d3c40",
   "metadata": {},
   "source": [
    "# Logistic Regression with Scikit Learn\n",
    "\n",
    "*Adapted from https://github.com/justmarkham*\n",
    "\n",
    "### Libraries\n",
    "\n",
    "- [scikit-learn](http://scikit-learn.org/stable/)\n",
    "- pandas\n",
    "- matplotlib\n",
    "\n",
    "In this tutorial we will see some basic examples of Logistic Regression for classification."
   ]
  },
  {
   "cell_type": "code",
   "execution_count": null,
   "id": "b76f5893-066d-4548-ab49-0b5ab26118e4",
   "metadata": {},
   "outputs": [],
   "source": [
    "import pandas as pd\n",
    "import numpy as np\n",
    "import matplotlib.pyplot as plt\n",
    "from sklearn.linear_model import LogisticRegression\n",
    "from sklearn.model_selection import cross_val_predict\n",
    "from sklearn.model_selection import cross_val_score\n",
    "import seaborn as sns\n",
    "%matplotlib inline"
   ]
  },
  {
   "cell_type": "markdown",
   "id": "9d781255-6acf-41ee-bea1-d183ac81de4d",
   "metadata": {},
   "source": [
    "## Classification with Logistic Regression\n",
    "\n",
    "|*|continuous|categorical|\n",
    "|---|---|---|\n",
    "|**supervised**|regression|**classification**|\n",
    "|**unsupervised**|dim. reduction|clustering|"
   ]
  },
  {
   "cell_type": "markdown",
   "id": "91f5b58d-3eca-428b-9689-eec6fb497ec4",
   "metadata": {},
   "source": [
    "# Predicting Titanic survival with Logistic Regression\n",
    "\n",
    "Let's use the data obtained by the _Encyclopedia Titanica_ to predict if a passenger survived the Titanic disaster.\n",
    "\n",
    "<img src=\"img/titanic.jpg\" width=\"600\">\n",
    "\n",
    "Let's import the dataset _titanic.csv_ (_hint_ use the `read_csv` pandas function):"
   ]
  },
  {
   "cell_type": "code",
   "execution_count": null,
   "id": "a8825f63-3dbc-4df6-815a-be3e9900330a",
   "metadata": {},
   "outputs": [],
   "source": [
    "titanic = ...\n",
    "titanic.head(5)"
   ]
  },
  {
   "cell_type": "markdown",
   "id": "876a964d-bde0-476d-bf42-211bf3b44ba7",
   "metadata": {},
   "source": [
    "What are the **features**?\n",
    "- name: Name of the passenger\n",
    "- sex: Male or Female\n",
    "- age: Age in years\n",
    "- sibsp: # of siblings / spouses aboard the Titanic\n",
    "- parch: # of parents / children aboard the Titanic\n",
    "- ticket: Ticket number\n",
    "- fare: Ticket price\n",
    "- cabin: Cabin number\n",
    "- embarked: Port of Embarkation\n",
    "\n",
    "What is the **response**?\n",
    "- survived: whether the passenger survived the disaster or not"
   ]
  },
  {
   "cell_type": "markdown",
   "id": "eba2c674-445a-4ae4-91ae-f770cdd9a30b",
   "metadata": {},
   "source": [
    "Print the number of survivors and death passengers, as well as the percentage of survivors. Is the dataset balanced?"
   ]
  },
  {
   "cell_type": "code",
   "execution_count": null,
   "id": "68a5a09b-0b7c-4f96-847a-a718163af0a0",
   "metadata": {},
   "outputs": [],
   "source": [
    "dead = ...\n",
    "survived = ...\n",
    "\n",
    "# print the required information"
   ]
  },
  {
   "cell_type": "markdown",
   "id": "59de4e4d-22bd-4cb8-afb4-36a193541aa8",
   "metadata": {},
   "source": [
    "Specify the columns to use as features:"
   ]
  },
  {
   "cell_type": "code",
   "execution_count": null,
   "id": "cc00ffbe-64af-441e-992a-63233a714f24",
   "metadata": {},
   "outputs": [],
   "source": [
    "titanic_features = ['sex', 'age', 'sibsp', 'parch', 'fare']"
   ]
  },
  {
   "cell_type": "markdown",
   "id": "03402cd9-b466-4c95-a7d8-abcc213d6d74",
   "metadata": {},
   "source": [
    "For the sake of this execise, we can assume the other features (name, cabin number, embarked) are not predictive."
   ]
  },
  {
   "cell_type": "markdown",
   "id": "fbb16f8c-45ce-46b0-8154-c4bff6a47dc7",
   "metadata": {},
   "source": [
    "### Let's prepare the feature vector for the training\n",
    "\n",
    "The dataset contains one categorical variable: sex (male|female)\n",
    "\n",
    "We need to convert it to a numerical variable. Use the pandas method `get_dummies` to take care of this. Check https://pandas.pydata.org/docs/reference/api/pandas.get_dummies.html"
   ]
  },
  {
   "cell_type": "code",
   "execution_count": null,
   "id": "981c3ecf-a4e3-4191-9479-02d8a990cb90",
   "metadata": {},
   "outputs": [],
   "source": [
    "X = ...\n",
    "X.head()"
   ]
  },
  {
   "cell_type": "markdown",
   "id": "990b4061-2596-4d10-89bd-1825369d4261",
   "metadata": {},
   "source": [
    "The categorical feature _sex_ is converted in 2 boolean features.\n",
    "\n",
    "Titanic sank in 1912: it was a lot of time ago! Some data may be missing. Let's check if there are undefined values. Use pandas' `isna` for this purpose: https://pandas.pydata.org/docs/reference/api/pandas.DataFrame.isna.html"
   ]
  },
  {
   "cell_type": "code",
   "execution_count": null,
   "id": "19b252ba-fad3-47aa-8e49-15713bb58b77",
   "metadata": {},
   "outputs": [],
   "source": [
    "# add your code here"
   ]
  },
  {
   "cell_type": "markdown",
   "id": "b82f36d0-06f2-46f5-8bf3-277056e299b0",
   "metadata": {},
   "source": [
    "Let's try to fix the data with a basic imputation method: replacing the missing values with the mean. Use pandas' `fillna` for this purpose: https://pandas.pydata.org/pandas-docs/stable/reference/api/pandas.DataFrame.fillna.html\n",
    "\n",
    "More info: https://en.wikipedia.org/wiki/Imputation_(statistics)"
   ]
  },
  {
   "cell_type": "code",
   "execution_count": null,
   "id": "dd1af4f9-2bfe-4ea3-8b7c-fcd0611d9925",
   "metadata": {},
   "outputs": [],
   "source": [
    "X = ...\n",
    "\n",
    "# check if X has any missing values\n",
    "..."
   ]
  },
  {
   "cell_type": "markdown",
   "id": "193863ff-7cdd-4716-a824-18b519d4c5ff",
   "metadata": {},
   "source": [
    "Create the label vector `y`:"
   ]
  },
  {
   "cell_type": "code",
   "execution_count": null,
   "id": "e89437d0-65f0-47eb-a964-0e6eabbccdb4",
   "metadata": {},
   "outputs": [],
   "source": [
    "y = ..."
   ]
  },
  {
   "cell_type": "markdown",
   "id": "63006e3f-6b94-49a0-b0bc-9306d13ac5ef",
   "metadata": {},
   "source": [
    "Let's create a Logistic Regression model..."
   ]
  },
  {
   "cell_type": "code",
   "execution_count": null,
   "id": "695b148b-38c3-43fc-b268-0e5db9cd1e55",
   "metadata": {},
   "outputs": [],
   "source": [
    "logistic = ..."
   ]
  },
  {
   "cell_type": "markdown",
   "id": "dd5285cb-ee57-4783-af97-3c4f1275c42a",
   "metadata": {},
   "source": [
    "... and evaluate the precison/recall with a cross validation (10 splits). For this, use the `cross_val_score` implementation provided by `sklearn` and already imported above. _Hint:_ check the `scoring` argument of this function: https://scikit-learn.org/stable/modules/generated/sklearn.model_selection.cross_val_score.html"
   ]
  },
  {
   "cell_type": "code",
   "execution_count": null,
   "id": "615eb2b6-3e5d-4ba3-b323-8ce0782b22dc",
   "metadata": {},
   "outputs": [],
   "source": [
    "precision = ...\n",
    "recall = ...\n",
    "\n",
    "# Precision: avoid false positives\n",
    "print(\"Precision: %0.2f (+/- %0.2f)\" % (precision.mean(), precision.std() * 2))\n",
    "# Recall: avoid false negatives\n",
    "print(\"Recall: %0.2f (+/- %0.2f)\" % (recall.mean(), recall.std() * 2))"
   ]
  },
  {
   "cell_type": "markdown",
   "id": "088dd8e1-d678-4eb9-8461-a291ae1c0c64",
   "metadata": {},
   "source": [
    "### Explore the model output\n",
    "\n",
    "Let's create a new Logistic Regression model and train it on the full dataset:"
   ]
  },
  {
   "cell_type": "code",
   "execution_count": null,
   "id": "9c0cf4f4-ce9a-4d10-bb55-0aaf4f5ac246",
   "metadata": {},
   "outputs": [],
   "source": [
    "logistic = ...\n",
    "\n",
    "# Train the model\n",
    "..."
   ]
  },
  {
   "cell_type": "markdown",
   "id": "7403fb72-95f9-4ee9-8021-fa222d839028",
   "metadata": {},
   "source": [
    "Of course, since we trained the whole dataset, we don't have new samples to predict, but we can predict the outcome and the relative probability for some artificial samples. Would you have survived?\n",
    "\n",
    "Remember the features:"
   ]
  },
  {
   "cell_type": "code",
   "execution_count": null,
   "id": "257a1f79-40fc-436e-b2ac-0e01b6e27d6b",
   "metadata": {},
   "outputs": [],
   "source": [
    "X.columns"
   ]
  },
  {
   "cell_type": "markdown",
   "id": "6e5c22e4-0d02-4e07-8d83-c66102e80e14",
   "metadata": {},
   "source": [
    "Would a man, 25 years old without relative onboard, and with a fare of 100 survive? _Hint:_ use pandas' `predict` to make the prediction."
   ]
  },
  {
   "cell_type": "code",
   "execution_count": null,
   "id": "3da5f539-5c12-40fd-8935-083305628eca",
   "metadata": {},
   "outputs": [],
   "source": [
    "test = ...\n",
    "\n",
    "# Check if he would have survived\n",
    "..."
   ]
  },
  {
   "cell_type": "markdown",
   "id": "a242bd92-8169-4ef8-8768-82e046388a42",
   "metadata": {},
   "source": [
    "What is the probability distribution behind this prediction? _Hint:_ use pandas' `predict_proba` to find the prediction distribution."
   ]
  },
  {
   "cell_type": "code",
   "execution_count": null,
   "id": "e9908001-402e-4619-b146-65d2542fccdf",
   "metadata": {},
   "outputs": [],
   "source": [
    "# Probability distribution"
   ]
  },
  {
   "cell_type": "markdown",
   "id": "628f1d38-453b-400c-8da6-83cf8b29bf83",
   "metadata": {},
   "source": [
    "What about a woman, 35 years old, alone onboard and with the same fare?"
   ]
  },
  {
   "cell_type": "code",
   "execution_count": null,
   "id": "7cf126e2-cc41-43cd-8a73-51abdf9600a3",
   "metadata": {},
   "outputs": [],
   "source": [
    "test = ...\n",
    "\n",
    "# Check if he would have survived\n",
    "...\n",
    "\n",
    "# Probability distribution\n",
    "..."
   ]
  }
 ],
 "metadata": {
  "kernelspec": {
   "display_name": "Python 3 (ipykernel)",
   "language": "python",
   "name": "python3"
  },
  "language_info": {
   "codemirror_mode": {
    "name": "ipython",
    "version": 3
   },
   "file_extension": ".py",
   "mimetype": "text/x-python",
   "name": "python",
   "nbconvert_exporter": "python",
   "pygments_lexer": "ipython3",
   "version": "3.9.12"
  }
 },
 "nbformat": 4,
 "nbformat_minor": 5
}
