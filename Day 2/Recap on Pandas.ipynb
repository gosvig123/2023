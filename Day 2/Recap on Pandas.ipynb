{
 "cells": [
  {
   "cell_type": "markdown",
   "id": "412b89d1-cb72-4f3a-b598-2d9383a44853",
   "metadata": {},
   "source": [
    "## Recap on Pandas\n",
    "\n",
    "Let's make a quick review on some important concepts of Pandas!"
   ]
  },
  {
   "cell_type": "code",
   "execution_count": null,
   "id": "748c5fed-6543-4847-8e7c-0230f86c801a",
   "metadata": {},
   "outputs": [],
   "source": [
    "import pandas as pd"
   ]
  },
  {
   "cell_type": "markdown",
   "id": "bba3116c-8f6b-4747-a65e-a890cf4acc3d",
   "metadata": {},
   "source": [
    "A company has information regarding their clients and would like to run some business analytics. Let's have a look at it!"
   ]
  },
  {
   "cell_type": "code",
   "execution_count": null,
   "id": "69d34f80-0fe9-4ccd-a587-373bd9e21f62",
   "metadata": {},
   "outputs": [],
   "source": [
    "company = pd.DataFrame({\n",
    "    'Name':['Albert Einstein', 'Katniss Everdeen', 'Jeff Dean', 'Steve Jobs', \n",
    "            'Nelson Mandela', 'Karim Benzema', 'Angela Merkel', 'Bad Bunny'],\n",
    "    'Age':[None, 17, 52, None, None, 33, 66, 27],\n",
    "    'Gender':['Male', 'Female', 'Male', 'Male', 'Male', 'Male', \"Female\", None]})\n",
    "company"
   ]
  },
  {
   "cell_type": "markdown",
   "id": "d68ef255-ed08-47bd-b17e-005fb6f1567e",
   "metadata": {},
   "source": [
    "### Basic data analysis on the Company"
   ]
  },
  {
   "cell_type": "markdown",
   "id": "031b8bab-048d-41f0-875e-0cd53fbfe987",
   "metadata": {},
   "source": [
    "Let's use `pandas`' function `.describe()` to get some basic stats of the dataset."
   ]
  },
  {
   "cell_type": "code",
   "execution_count": null,
   "id": "3a859e5f-c694-4822-b261-ca2ce91cf8bb",
   "metadata": {},
   "outputs": [],
   "source": [
    "# add your code here"
   ]
  },
  {
   "cell_type": "markdown",
   "id": "69e21a1d-9038-4e17-b9f0-0520639cee1f",
   "metadata": {},
   "source": [
    "These only appear for _Age_ since it is the only numeric attribute. At the same time, rows with the `NaN` value are not considered in the statistic. We will deal with these later.\n",
    "\n",
    "Now, let's get the most common _Gender_ on the dataset. You can use the `.mode()` method for this."
   ]
  },
  {
   "cell_type": "code",
   "execution_count": null,
   "id": "f5aef2dd-e32a-4f1d-8dec-0ec81db93841",
   "metadata": {},
   "outputs": [],
   "source": [
    "# add your code here"
   ]
  },
  {
   "cell_type": "markdown",
   "id": "80231acd-0025-430e-a12c-b1a22aef3394",
   "metadata": {},
   "source": [
    "### Missing values on the company"
   ]
  },
  {
   "cell_type": "markdown",
   "id": "c4a60c99-06db-42f6-975a-75498c831c2d",
   "metadata": {},
   "source": [
    "Some information from the company is missing. Let's identify the rows with any missing. For this, we use `isnull()`."
   ]
  },
  {
   "cell_type": "code",
   "execution_count": null,
   "id": "43987aeb-b494-4d1c-bfce-821e6149fdb2",
   "metadata": {},
   "outputs": [],
   "source": [
    "# add your code here"
   ]
  },
  {
   "cell_type": "markdown",
   "id": "3f1fa67e-7659-4829-bd5d-ff87962c0d6a",
   "metadata": {},
   "source": [
    "Now that we have identified the values, we can decide a policy to overcome the missingness. Let's fill the _Age_ with 0s, and drop the rows with unknown _Gender_."
   ]
  },
  {
   "cell_type": "code",
   "execution_count": null,
   "id": "808ee869-c4b9-4c35-9d54-b24e9540c3a0",
   "metadata": {},
   "outputs": [],
   "source": [
    "# add your code here"
   ]
  },
  {
   "cell_type": "markdown",
   "id": "e470d2f9-7b9e-47c0-84da-9e4c4e50f69c",
   "metadata": {},
   "source": [
    "### Convert categorical variable into dummy/indicator variables."
   ]
  },
  {
   "cell_type": "markdown",
   "id": "d1e4670e-fa74-44c8-89ea-e636fcab7e96",
   "metadata": {},
   "source": [
    "Machine Learning algorithms don't know how to deal with categorial variables. These are usually transformed into binary variables that indicate the presence or absence of each categorical value. We will transform the _Gender_ attribute from categorial to dummy by applying the `.get_dummies()` function."
   ]
  },
  {
   "cell_type": "code",
   "execution_count": null,
   "id": "00e03476-62e0-4d3b-918c-96596019d093",
   "metadata": {},
   "outputs": [],
   "source": [
    "# add your code here"
   ]
  }
 ],
 "metadata": {
  "kernelspec": {
   "display_name": "Python 3 (ipykernel)",
   "language": "python",
   "name": "python3"
  },
  "language_info": {
   "codemirror_mode": {
    "name": "ipython",
    "version": 3
   },
   "file_extension": ".py",
   "mimetype": "text/x-python",
   "name": "python",
   "nbconvert_exporter": "python",
   "pygments_lexer": "ipython3",
   "version": "3.9.12"
  }
 },
 "nbformat": 4,
 "nbformat_minor": 5
}
