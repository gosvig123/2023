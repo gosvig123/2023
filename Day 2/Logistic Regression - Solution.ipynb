{
 "cells": [
  {
   "cell_type": "markdown",
   "id": "85d7a139-90d5-4a97-bed0-0f7a529d3c40",
   "metadata": {},
   "source": [
    "# Logistic Regression with Scikit Learn\n",
    "\n",
    "*Adapted from https://github.com/justmarkham*\n",
    "\n",
    "### Libraries\n",
    "\n",
    "- [scikit-learn](http://scikit-learn.org/stable/)\n",
    "- pandas\n",
    "- matplotlib\n",
    "\n",
    "In this tutorial we will see some basic examples of Logistic Regression for classification."
   ]
  },
  {
   "cell_type": "code",
   "execution_count": 1,
   "id": "b76f5893-066d-4548-ab49-0b5ab26118e4",
   "metadata": {},
   "outputs": [],
   "source": [
    "import pandas as pd\n",
    "import numpy as np\n",
    "import matplotlib.pyplot as plt\n",
    "from sklearn.linear_model import LogisticRegression\n",
    "from sklearn.model_selection import cross_val_predict\n",
    "from sklearn.model_selection import cross_val_score\n",
    "import seaborn as sns\n",
    "%matplotlib inline"
   ]
  },
  {
   "cell_type": "markdown",
   "id": "9d781255-6acf-41ee-bea1-d183ac81de4d",
   "metadata": {},
   "source": [
    "## Classification with Logistic Regression\n",
    "\n",
    "|*|continuous|categorical|\n",
    "|---|---|---|\n",
    "|**supervised**|regression|**classification**|\n",
    "|**unsupervised**|dim. reduction|clustering|"
   ]
  },
  {
   "cell_type": "markdown",
   "id": "91f5b58d-3eca-428b-9689-eec6fb497ec4",
   "metadata": {},
   "source": [
    "# Predicting Titanic survival with Logistic Regression\n",
    "\n",
    "Let's use the data obtained by the _Encyclopedia Titanica_ to predict if a passenger survived the Titanic disaster.\n",
    "\n",
    "<img src=\"img/titanic.jpg\" width=\"600\">\n",
    "\n",
    "Let's import the dataset _titanic.csv_ (_hint_ use the `read_csv` pandas function):"
   ]
  },
  {
   "cell_type": "code",
   "execution_count": 2,
   "id": "a8825f63-3dbc-4df6-815a-be3e9900330a",
   "metadata": {},
   "outputs": [
    {
     "data": {
      "text/html": [
       "<div>\n",
       "<style scoped>\n",
       "    .dataframe tbody tr th:only-of-type {\n",
       "        vertical-align: middle;\n",
       "    }\n",
       "\n",
       "    .dataframe tbody tr th {\n",
       "        vertical-align: top;\n",
       "    }\n",
       "\n",
       "    .dataframe thead th {\n",
       "        text-align: right;\n",
       "    }\n",
       "</style>\n",
       "<table border=\"1\" class=\"dataframe\">\n",
       "  <thead>\n",
       "    <tr style=\"text-align: right;\">\n",
       "      <th></th>\n",
       "      <th>survived</th>\n",
       "      <th>name</th>\n",
       "      <th>sex</th>\n",
       "      <th>age</th>\n",
       "      <th>sibsp</th>\n",
       "      <th>parch</th>\n",
       "      <th>ticket</th>\n",
       "      <th>fare</th>\n",
       "      <th>cabin</th>\n",
       "      <th>embarked</th>\n",
       "    </tr>\n",
       "  </thead>\n",
       "  <tbody>\n",
       "    <tr>\n",
       "      <th>0</th>\n",
       "      <td>1</td>\n",
       "      <td>Allen, Miss. Elisabeth Walton</td>\n",
       "      <td>female</td>\n",
       "      <td>29.0000</td>\n",
       "      <td>0</td>\n",
       "      <td>0</td>\n",
       "      <td>24160</td>\n",
       "      <td>211.3375</td>\n",
       "      <td>B5</td>\n",
       "      <td>S</td>\n",
       "    </tr>\n",
       "    <tr>\n",
       "      <th>1</th>\n",
       "      <td>1</td>\n",
       "      <td>Allison, Master. Hudson Trevor</td>\n",
       "      <td>male</td>\n",
       "      <td>0.9167</td>\n",
       "      <td>1</td>\n",
       "      <td>2</td>\n",
       "      <td>113781</td>\n",
       "      <td>151.5500</td>\n",
       "      <td>C22 C26</td>\n",
       "      <td>S</td>\n",
       "    </tr>\n",
       "    <tr>\n",
       "      <th>2</th>\n",
       "      <td>0</td>\n",
       "      <td>Allison, Miss. Helen Loraine</td>\n",
       "      <td>female</td>\n",
       "      <td>2.0000</td>\n",
       "      <td>1</td>\n",
       "      <td>2</td>\n",
       "      <td>113781</td>\n",
       "      <td>151.5500</td>\n",
       "      <td>C22 C26</td>\n",
       "      <td>S</td>\n",
       "    </tr>\n",
       "    <tr>\n",
       "      <th>3</th>\n",
       "      <td>0</td>\n",
       "      <td>Allison, Mr. Hudson Joshua Creighton</td>\n",
       "      <td>male</td>\n",
       "      <td>30.0000</td>\n",
       "      <td>1</td>\n",
       "      <td>2</td>\n",
       "      <td>113781</td>\n",
       "      <td>151.5500</td>\n",
       "      <td>C22 C26</td>\n",
       "      <td>S</td>\n",
       "    </tr>\n",
       "    <tr>\n",
       "      <th>4</th>\n",
       "      <td>0</td>\n",
       "      <td>Allison, Mrs. Hudson J C (Bessie Waldo Daniels)</td>\n",
       "      <td>female</td>\n",
       "      <td>25.0000</td>\n",
       "      <td>1</td>\n",
       "      <td>2</td>\n",
       "      <td>113781</td>\n",
       "      <td>151.5500</td>\n",
       "      <td>C22 C26</td>\n",
       "      <td>S</td>\n",
       "    </tr>\n",
       "  </tbody>\n",
       "</table>\n",
       "</div>"
      ],
      "text/plain": [
       "   survived                                             name     sex      age  \\\n",
       "0         1                    Allen, Miss. Elisabeth Walton  female  29.0000   \n",
       "1         1                   Allison, Master. Hudson Trevor    male   0.9167   \n",
       "2         0                     Allison, Miss. Helen Loraine  female   2.0000   \n",
       "3         0             Allison, Mr. Hudson Joshua Creighton    male  30.0000   \n",
       "4         0  Allison, Mrs. Hudson J C (Bessie Waldo Daniels)  female  25.0000   \n",
       "\n",
       "   sibsp  parch  ticket      fare    cabin embarked  \n",
       "0      0      0   24160  211.3375       B5        S  \n",
       "1      1      2  113781  151.5500  C22 C26        S  \n",
       "2      1      2  113781  151.5500  C22 C26        S  \n",
       "3      1      2  113781  151.5500  C22 C26        S  \n",
       "4      1      2  113781  151.5500  C22 C26        S  "
      ]
     },
     "execution_count": 2,
     "metadata": {},
     "output_type": "execute_result"
    }
   ],
   "source": [
    "titanic = pd.read_csv('data/titanic.csv')\n",
    "titanic.head(5)"
   ]
  },
  {
   "cell_type": "markdown",
   "id": "876a964d-bde0-476d-bf42-211bf3b44ba7",
   "metadata": {},
   "source": [
    "What are the **features**?\n",
    "- name: Name of the passenger\n",
    "- sex: Male or Female\n",
    "- age: Age in years\n",
    "- sibsp: # of siblings / spouses aboard the Titanic\n",
    "- parch: # of parents / children aboard the Titanic\n",
    "- ticket: Ticket number\n",
    "- fare: Ticket price\n",
    "- cabin: Cabin number\n",
    "- embarked: Port of Embarkation\n",
    "\n",
    "What is the **response**?\n",
    "- survived: whether the passenger survived the disaster or not"
   ]
  },
  {
   "cell_type": "markdown",
   "id": "eba2c674-445a-4ae4-91ae-f770cdd9a30b",
   "metadata": {},
   "source": [
    "Print the number of survivors and death passengers, as well as the percentage of survivors. Is the dataset balanced?"
   ]
  },
  {
   "cell_type": "code",
   "execution_count": 3,
   "id": "68a5a09b-0b7c-4f96-847a-a718163af0a0",
   "metadata": {},
   "outputs": [
    {
     "name": "stdout",
     "output_type": "stream",
     "text": [
      "Survived 500, Dead 809\n",
      "Survived 38.20%\n"
     ]
    }
   ],
   "source": [
    "dead = titanic[titanic['survived']==0]\n",
    "survived = titanic[titanic['survived']==1]\n",
    "\n",
    "print(\"Survived {0}, Dead {1}\".format(len(survived), len(dead)))\n",
    "print(\"Survived {:.2%}\".format(len(survived)/len(titanic)))"
   ]
  },
  {
   "cell_type": "markdown",
   "id": "59de4e4d-22bd-4cb8-afb4-36a193541aa8",
   "metadata": {},
   "source": [
    "Specify the columns to use as features:"
   ]
  },
  {
   "cell_type": "code",
   "execution_count": 4,
   "id": "cc00ffbe-64af-441e-992a-63233a714f24",
   "metadata": {},
   "outputs": [],
   "source": [
    "titanic_features = ['sex', 'age', 'sibsp', 'parch', 'fare']"
   ]
  },
  {
   "cell_type": "markdown",
   "id": "03402cd9-b466-4c95-a7d8-abcc213d6d74",
   "metadata": {},
   "source": [
    "For the sake of this execise, we can assume the other features (name, cabin number, embarked) are not predictive."
   ]
  },
  {
   "cell_type": "markdown",
   "id": "fbb16f8c-45ce-46b0-8154-c4bff6a47dc7",
   "metadata": {},
   "source": [
    "### Let's prepare the feature vector for the training\n",
    "\n",
    "The dataset contains one categorical variable: sex (male|female)\n",
    "\n",
    "We need to convert it to a numerical variable. Use the pandas method `get_dummies` to take care of this. Check https://pandas.pydata.org/docs/reference/api/pandas.get_dummies.html"
   ]
  },
  {
   "cell_type": "code",
   "execution_count": 5,
   "id": "981c3ecf-a4e3-4191-9479-02d8a990cb90",
   "metadata": {},
   "outputs": [
    {
     "data": {
      "text/html": [
       "<div>\n",
       "<style scoped>\n",
       "    .dataframe tbody tr th:only-of-type {\n",
       "        vertical-align: middle;\n",
       "    }\n",
       "\n",
       "    .dataframe tbody tr th {\n",
       "        vertical-align: top;\n",
       "    }\n",
       "\n",
       "    .dataframe thead th {\n",
       "        text-align: right;\n",
       "    }\n",
       "</style>\n",
       "<table border=\"1\" class=\"dataframe\">\n",
       "  <thead>\n",
       "    <tr style=\"text-align: right;\">\n",
       "      <th></th>\n",
       "      <th>age</th>\n",
       "      <th>sibsp</th>\n",
       "      <th>parch</th>\n",
       "      <th>fare</th>\n",
       "      <th>sex_female</th>\n",
       "      <th>sex_male</th>\n",
       "    </tr>\n",
       "  </thead>\n",
       "  <tbody>\n",
       "    <tr>\n",
       "      <th>0</th>\n",
       "      <td>29.0000</td>\n",
       "      <td>0</td>\n",
       "      <td>0</td>\n",
       "      <td>211.3375</td>\n",
       "      <td>1</td>\n",
       "      <td>0</td>\n",
       "    </tr>\n",
       "    <tr>\n",
       "      <th>1</th>\n",
       "      <td>0.9167</td>\n",
       "      <td>1</td>\n",
       "      <td>2</td>\n",
       "      <td>151.5500</td>\n",
       "      <td>0</td>\n",
       "      <td>1</td>\n",
       "    </tr>\n",
       "    <tr>\n",
       "      <th>2</th>\n",
       "      <td>2.0000</td>\n",
       "      <td>1</td>\n",
       "      <td>2</td>\n",
       "      <td>151.5500</td>\n",
       "      <td>1</td>\n",
       "      <td>0</td>\n",
       "    </tr>\n",
       "    <tr>\n",
       "      <th>3</th>\n",
       "      <td>30.0000</td>\n",
       "      <td>1</td>\n",
       "      <td>2</td>\n",
       "      <td>151.5500</td>\n",
       "      <td>0</td>\n",
       "      <td>1</td>\n",
       "    </tr>\n",
       "    <tr>\n",
       "      <th>4</th>\n",
       "      <td>25.0000</td>\n",
       "      <td>1</td>\n",
       "      <td>2</td>\n",
       "      <td>151.5500</td>\n",
       "      <td>1</td>\n",
       "      <td>0</td>\n",
       "    </tr>\n",
       "  </tbody>\n",
       "</table>\n",
       "</div>"
      ],
      "text/plain": [
       "       age  sibsp  parch      fare  sex_female  sex_male\n",
       "0  29.0000      0      0  211.3375           1         0\n",
       "1   0.9167      1      2  151.5500           0         1\n",
       "2   2.0000      1      2  151.5500           1         0\n",
       "3  30.0000      1      2  151.5500           0         1\n",
       "4  25.0000      1      2  151.5500           1         0"
      ]
     },
     "execution_count": 5,
     "metadata": {},
     "output_type": "execute_result"
    }
   ],
   "source": [
    "# The features vector\n",
    "X = pd.get_dummies(titanic[titanic_features])\n",
    "X.head()"
   ]
  },
  {
   "cell_type": "markdown",
   "id": "990b4061-2596-4d10-89bd-1825369d4261",
   "metadata": {},
   "source": [
    "The categorical feature _sex_ is converted in 2 boolean features.\n",
    "\n",
    "Titanic sank in 1912: it was a lot of time ago! Some data may be missing. Let's check if there are undefined values. Use pandas' `isna` for this purpose: https://pandas.pydata.org/docs/reference/api/pandas.DataFrame.isna.html"
   ]
  },
  {
   "cell_type": "code",
   "execution_count": 6,
   "id": "19b252ba-fad3-47aa-8e49-15713bb58b77",
   "metadata": {},
   "outputs": [
    {
     "data": {
      "text/plain": [
       "264"
      ]
     },
     "execution_count": 6,
     "metadata": {},
     "output_type": "execute_result"
    }
   ],
   "source": [
    "len(X[X.isna().any(axis=1)])"
   ]
  },
  {
   "cell_type": "markdown",
   "id": "b82f36d0-06f2-46f5-8bf3-277056e299b0",
   "metadata": {},
   "source": [
    "Let's try to fix the data with a basic imputation method: replacing the missing values with the mean. Use pandas' `fillna` for this purpose: https://pandas.pydata.org/pandas-docs/stable/reference/api/pandas.DataFrame.fillna.html\n",
    "\n",
    "More info: https://en.wikipedia.org/wiki/Imputation_(statistics)"
   ]
  },
  {
   "cell_type": "code",
   "execution_count": 7,
   "id": "dd1af4f9-2bfe-4ea3-8b7c-fcd0611d9925",
   "metadata": {},
   "outputs": [
    {
     "data": {
      "text/plain": [
       "0"
      ]
     },
     "execution_count": 7,
     "metadata": {},
     "output_type": "execute_result"
    }
   ],
   "source": [
    "X = X.fillna(X.mean())\n",
    "\n",
    "len(X[X.isna().any(axis=1)])"
   ]
  },
  {
   "cell_type": "markdown",
   "id": "193863ff-7cdd-4716-a824-18b519d4c5ff",
   "metadata": {},
   "source": [
    "Create the label vector `y`:"
   ]
  },
  {
   "cell_type": "code",
   "execution_count": 8,
   "id": "e89437d0-65f0-47eb-a964-0e6eabbccdb4",
   "metadata": {},
   "outputs": [],
   "source": [
    "y = titanic['survived']"
   ]
  },
  {
   "cell_type": "markdown",
   "id": "63006e3f-6b94-49a0-b0bc-9306d13ac5ef",
   "metadata": {},
   "source": [
    "Let's create a Logistic Regression model..."
   ]
  },
  {
   "cell_type": "code",
   "execution_count": 9,
   "id": "695b148b-38c3-43fc-b268-0e5db9cd1e55",
   "metadata": {},
   "outputs": [],
   "source": [
    "logistic = LogisticRegression(solver='lbfgs')"
   ]
  },
  {
   "cell_type": "markdown",
   "id": "dd5285cb-ee57-4783-af97-3c4f1275c42a",
   "metadata": {},
   "source": [
    "... and evaluate the precison/recall with a cross validation (10 splits). For this, use the `cross_val_score` implementation provided by `sklearn` and already imported above. _Hint:_ check the `scoring` argument of this function: https://scikit-learn.org/stable/modules/generated/sklearn.model_selection.cross_val_score.html"
   ]
  },
  {
   "cell_type": "code",
   "execution_count": 10,
   "id": "615eb2b6-3e5d-4ba3-b323-8ce0782b22dc",
   "metadata": {},
   "outputs": [
    {
     "name": "stdout",
     "output_type": "stream",
     "text": [
      "Precision: 0.72 (+/- 0.13)\n",
      "Recall: 0.68 (+/- 0.16)\n"
     ]
    }
   ],
   "source": [
    "precision = cross_val_score(logistic, X, y, cv=10, scoring=\"precision\")\n",
    "recall = cross_val_score(logistic, X, y, cv=10, scoring=\"recall\")\n",
    "\n",
    "# Precision: avoid false positives\n",
    "print(\"Precision: %0.2f (+/- %0.2f)\" % (precision.mean(), precision.std() * 2))\n",
    "# Recall: avoid false negatives\n",
    "print(\"Recall: %0.2f (+/- %0.2f)\" % (recall.mean(), recall.std() * 2))"
   ]
  },
  {
   "cell_type": "markdown",
   "id": "088dd8e1-d678-4eb9-8461-a291ae1c0c64",
   "metadata": {},
   "source": [
    "### Explore the model output\n",
    "\n",
    "Let's create a new Logistic Regression model and train it on the full dataset:"
   ]
  },
  {
   "cell_type": "code",
   "execution_count": 11,
   "id": "9c0cf4f4-ce9a-4d10-bb55-0aaf4f5ac246",
   "metadata": {},
   "outputs": [
    {
     "data": {
      "text/plain": [
       "LogisticRegression()"
      ]
     },
     "execution_count": 11,
     "metadata": {},
     "output_type": "execute_result"
    }
   ],
   "source": [
    "logistic = LogisticRegression(solver='lbfgs')\n",
    "logistic.fit(X.values, y)"
   ]
  },
  {
   "cell_type": "markdown",
   "id": "7403fb72-95f9-4ee9-8021-fa222d839028",
   "metadata": {},
   "source": [
    "Of course, since we trained the whole dataset, we don't have new samples to predict, but we can predict the outcome and the relative probability for some artificial samples. Would you have survived?\n",
    "\n",
    "Remember the features:"
   ]
  },
  {
   "cell_type": "code",
   "execution_count": 12,
   "id": "257a1f79-40fc-436e-b2ac-0e01b6e27d6b",
   "metadata": {},
   "outputs": [
    {
     "data": {
      "text/plain": [
       "Index(['age', 'sibsp', 'parch', 'fare', 'sex_female', 'sex_male'], dtype='object')"
      ]
     },
     "execution_count": 12,
     "metadata": {},
     "output_type": "execute_result"
    }
   ],
   "source": [
    "X.columns"
   ]
  },
  {
   "cell_type": "markdown",
   "id": "6e5c22e4-0d02-4e07-8d83-c66102e80e14",
   "metadata": {},
   "source": [
    "Would a man, 25 years old without relative onboard, and with a fare of 100 survive? _Hint:_ use pandas' `predict` to make the prediction."
   ]
  },
  {
   "cell_type": "code",
   "execution_count": 13,
   "id": "3da5f539-5c12-40fd-8935-083305628eca",
   "metadata": {},
   "outputs": [
    {
     "data": {
      "text/plain": [
       "'NO'"
      ]
     },
     "execution_count": 13,
     "metadata": {},
     "output_type": "execute_result"
    }
   ],
   "source": [
    "test = [25, 0, 0, 100, 0, 1]\n",
    "\"YES\" if logistic.predict([test])[0] > 0 else \"NO\""
   ]
  },
  {
   "cell_type": "markdown",
   "id": "a242bd92-8169-4ef8-8768-82e046388a42",
   "metadata": {},
   "source": [
    "What is the probability distribution behind this prediction? _Hint:_ use pandas' `predict_proba` to find the prediction distribution."
   ]
  },
  {
   "cell_type": "code",
   "execution_count": 14,
   "id": "e9908001-402e-4619-b146-65d2542fccdf",
   "metadata": {},
   "outputs": [
    {
     "data": {
      "text/plain": [
       "array([[0.5528599, 0.4471401]])"
      ]
     },
     "execution_count": 14,
     "metadata": {},
     "output_type": "execute_result"
    }
   ],
   "source": [
    "logistic.predict_proba([test])"
   ]
  },
  {
   "cell_type": "markdown",
   "id": "628f1d38-453b-400c-8da6-83cf8b29bf83",
   "metadata": {},
   "source": [
    "What about a woman, 35 years old, alone onboard and with the same fare?"
   ]
  },
  {
   "cell_type": "code",
   "execution_count": 15,
   "id": "7cf126e2-cc41-43cd-8a73-51abdf9600a3",
   "metadata": {},
   "outputs": [
    {
     "name": "stdout",
     "output_type": "stream",
     "text": [
      "YES\n",
      "[0.11464109 0.88535891]\n"
     ]
    }
   ],
   "source": [
    "test = [35, 0, 0, 100, 1, 0]\n",
    "\n",
    "print(\"YES\" if logistic.predict([test])[0] > 0 else \"NO\")\n",
    "print(logistic.predict_proba([test])[0])"
   ]
  },
  {
   "cell_type": "code",
   "execution_count": null,
   "id": "eda153fc-cc40-4dec-979f-c451440237d3",
   "metadata": {},
   "outputs": [],
   "source": []
  }
 ],
 "metadata": {
  "kernelspec": {
   "display_name": "Python 3 (ipykernel)",
   "language": "python",
   "name": "python3"
  },
  "language_info": {
   "codemirror_mode": {
    "name": "ipython",
    "version": 3
   },
   "file_extension": ".py",
   "mimetype": "text/x-python",
   "name": "python",
   "nbconvert_exporter": "python",
   "pygments_lexer": "ipython3",
   "version": "3.9.12"
  }
 },
 "nbformat": 4,
 "nbformat_minor": 5
}
